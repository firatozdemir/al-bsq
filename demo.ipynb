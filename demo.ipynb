{
 "cells": [
  {
   "cell_type": "markdown",
   "metadata": {},
   "source": [
    "## This demo script trains an MMD VAE on a public dataset, then selects representative samples for N iterations."
   ]
  },
  {
   "cell_type": "code",
   "execution_count": null,
   "metadata": {},
   "outputs": [],
   "source": [
    "from IPython.core.display import display, HTML\n",
    "display(HTML(\"<style>.container { width:100% !important; }</style>\"))\n",
    "###################################\n",
    "import argparse\n",
    "import numpy as np\n",
    "import tensorflow as tf\n",
    "print('TF v: ', tf.__version__)\n",
    "import tensorflow_datasets as tfds\n",
    "import os\n",
    "import sys\n",
    "import utils\n",
    "import logging\n",
    "logging.basicConfig(level=logging.INFO, format='%(asctime)s %(message)s')\n",
    "\n",
    "# from learn_representation import train_infoVAE\n",
    "import learn_representation, utils"
   ]
  },
  {
   "cell_type": "markdown",
   "metadata": {},
   "source": [
    "### learn representative space"
   ]
  },
  {
   "cell_type": "code",
   "execution_count": null,
   "metadata": {},
   "outputs": [],
   "source": [
    "logdir = os.path.join(os.getcwd(), 'tmp')\n",
    "# logdir='/home/fozdemir/saved_models/AL_BSQ/norm_ldims5'\n",
    "batch_size=300\n",
    "print(\"Latent dims: 10, lambda_mmd 1e3, batch_size: %d\" % (batch_size))\n",
    "print(\"Logdir: %s\" % (logdir))\n",
    "##########################################################################\n",
    "######### Ideally, one better run this outside of the notebook. ##########\n",
    "# !python learn_representation.py -l {logdir} --ndims_latent 10 --lambda_mmd 1000 --batch_size {batch_size} \n",
    "##########################################################################"
   ]
  },
  {
   "cell_type": "markdown",
   "metadata": {},
   "source": [
    "### load function to map onto representative space"
   ]
  },
  {
   "cell_type": "code",
   "execution_count": null,
   "metadata": {
    "scrolled": true
   },
   "outputs": [],
   "source": [
    "# import importlib\n",
    "# importlib.reload(utils)\n",
    "\n",
    "sampler_obj = utils.AL_BSQ_Sampler(log_dir=logdir)"
   ]
  },
  {
   "cell_type": "code",
   "execution_count": null,
   "metadata": {},
   "outputs": [],
   "source": [
    "# Sample representative samples\n",
    "# sampler_obj = utils.AL_BSQ_Sampler(log_dir=log_dir)\n",
    "num_al_iterations = 1 # sample most representative samples 1 time in a row for this demo.\n",
    "num_query = 10 # query 10 most representative samples at a time.\n",
    "inds_an = sampler_obj.inds_an.copy()\n",
    "l_inds_an = [inds_an]\n",
    "for i_al in range(num_al_iterations):\n",
    "    inds_query = sampler_obj.query_samples(inds_an=inds_an, num_query=num_query)\n",
    "    inds_an = np.concatenate((inds_an, inds_query), axis=0)\n",
    "    l_inds_an.append(inds_an.copy())\n",
    "    logging.info('Queried indices for step %d:\\n%s' % (i_al+1, str(inds_query)))"
   ]
  },
  {
   "cell_type": "code",
   "execution_count": null,
   "metadata": {},
   "outputs": [],
   "source": [
    "## Alternatively, use commandline script\n",
    "!python demo.py --logdir {logdir} --ndims_latent 10 --lambda_mmd 1000 --batch_size {batch_size} "
   ]
  }
 ],
 "metadata": {
  "kernelspec": {
   "display_name": "Python 3",
   "language": "python",
   "name": "python3"
  },
  "language_info": {
   "codemirror_mode": {
    "name": "ipython",
    "version": 3
   },
   "file_extension": ".py",
   "mimetype": "text/x-python",
   "name": "python",
   "nbconvert_exporter": "python",
   "pygments_lexer": "ipython3",
   "version": "3.6.10"
  }
 },
 "nbformat": 4,
 "nbformat_minor": 2
}
