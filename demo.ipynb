{
 "cells": [
  {
   "cell_type": "markdown",
   "metadata": {},
   "source": [
    "## This demo script trains an MMD VAE on a public dataset, then selects representative samples for N iterations."
   ]
  },
  {
   "cell_type": "code",
   "execution_count": 1,
   "metadata": {},
   "outputs": [
    {
     "data": {
      "text/html": [
       "<style>.container { width:100% !important; }</style>"
      ],
      "text/plain": [
       "<IPython.core.display.HTML object>"
      ]
     },
     "metadata": {},
     "output_type": "display_data"
    },
    {
     "name": "stderr",
     "output_type": "stream",
     "text": [
      "/home/firat/binaries/miniconda3/envs/tf114cpu/lib/python3.6/site-packages/tensorflow/python/framework/dtypes.py:516: FutureWarning: Passing (type, 1) or '1type' as a synonym of type is deprecated; in a future version of numpy, it will be understood as (type, (1,)) / '(1,)type'.\n",
      "  _np_qint8 = np.dtype([(\"qint8\", np.int8, 1)])\n",
      "/home/firat/binaries/miniconda3/envs/tf114cpu/lib/python3.6/site-packages/tensorflow/python/framework/dtypes.py:517: FutureWarning: Passing (type, 1) or '1type' as a synonym of type is deprecated; in a future version of numpy, it will be understood as (type, (1,)) / '(1,)type'.\n",
      "  _np_quint8 = np.dtype([(\"quint8\", np.uint8, 1)])\n",
      "/home/firat/binaries/miniconda3/envs/tf114cpu/lib/python3.6/site-packages/tensorflow/python/framework/dtypes.py:518: FutureWarning: Passing (type, 1) or '1type' as a synonym of type is deprecated; in a future version of numpy, it will be understood as (type, (1,)) / '(1,)type'.\n",
      "  _np_qint16 = np.dtype([(\"qint16\", np.int16, 1)])\n",
      "/home/firat/binaries/miniconda3/envs/tf114cpu/lib/python3.6/site-packages/tensorflow/python/framework/dtypes.py:519: FutureWarning: Passing (type, 1) or '1type' as a synonym of type is deprecated; in a future version of numpy, it will be understood as (type, (1,)) / '(1,)type'.\n",
      "  _np_quint16 = np.dtype([(\"quint16\", np.uint16, 1)])\n",
      "/home/firat/binaries/miniconda3/envs/tf114cpu/lib/python3.6/site-packages/tensorflow/python/framework/dtypes.py:520: FutureWarning: Passing (type, 1) or '1type' as a synonym of type is deprecated; in a future version of numpy, it will be understood as (type, (1,)) / '(1,)type'.\n",
      "  _np_qint32 = np.dtype([(\"qint32\", np.int32, 1)])\n",
      "/home/firat/binaries/miniconda3/envs/tf114cpu/lib/python3.6/site-packages/tensorflow/python/framework/dtypes.py:525: FutureWarning: Passing (type, 1) or '1type' as a synonym of type is deprecated; in a future version of numpy, it will be understood as (type, (1,)) / '(1,)type'.\n",
      "  np_resource = np.dtype([(\"resource\", np.ubyte, 1)])\n",
      "/home/firat/binaries/miniconda3/envs/tf114cpu/lib/python3.6/site-packages/tensorboard/compat/tensorflow_stub/dtypes.py:541: FutureWarning: Passing (type, 1) or '1type' as a synonym of type is deprecated; in a future version of numpy, it will be understood as (type, (1,)) / '(1,)type'.\n",
      "  _np_qint8 = np.dtype([(\"qint8\", np.int8, 1)])\n",
      "/home/firat/binaries/miniconda3/envs/tf114cpu/lib/python3.6/site-packages/tensorboard/compat/tensorflow_stub/dtypes.py:542: FutureWarning: Passing (type, 1) or '1type' as a synonym of type is deprecated; in a future version of numpy, it will be understood as (type, (1,)) / '(1,)type'.\n",
      "  _np_quint8 = np.dtype([(\"quint8\", np.uint8, 1)])\n",
      "/home/firat/binaries/miniconda3/envs/tf114cpu/lib/python3.6/site-packages/tensorboard/compat/tensorflow_stub/dtypes.py:543: FutureWarning: Passing (type, 1) or '1type' as a synonym of type is deprecated; in a future version of numpy, it will be understood as (type, (1,)) / '(1,)type'.\n",
      "  _np_qint16 = np.dtype([(\"qint16\", np.int16, 1)])\n",
      "/home/firat/binaries/miniconda3/envs/tf114cpu/lib/python3.6/site-packages/tensorboard/compat/tensorflow_stub/dtypes.py:544: FutureWarning: Passing (type, 1) or '1type' as a synonym of type is deprecated; in a future version of numpy, it will be understood as (type, (1,)) / '(1,)type'.\n",
      "  _np_quint16 = np.dtype([(\"quint16\", np.uint16, 1)])\n",
      "/home/firat/binaries/miniconda3/envs/tf114cpu/lib/python3.6/site-packages/tensorboard/compat/tensorflow_stub/dtypes.py:545: FutureWarning: Passing (type, 1) or '1type' as a synonym of type is deprecated; in a future version of numpy, it will be understood as (type, (1,)) / '(1,)type'.\n",
      "  _np_qint32 = np.dtype([(\"qint32\", np.int32, 1)])\n",
      "/home/firat/binaries/miniconda3/envs/tf114cpu/lib/python3.6/site-packages/tensorboard/compat/tensorflow_stub/dtypes.py:550: FutureWarning: Passing (type, 1) or '1type' as a synonym of type is deprecated; in a future version of numpy, it will be understood as (type, (1,)) / '(1,)type'.\n",
      "  np_resource = np.dtype([(\"resource\", np.ubyte, 1)])\n"
     ]
    },
    {
     "name": "stdout",
     "output_type": "stream",
     "text": [
      "TF v:  1.14.0\n",
      "WARNING:tensorflow:\n",
      "The TensorFlow contrib module will not be included in TensorFlow 2.0.\n",
      "For more information, please see:\n",
      "  * https://github.com/tensorflow/community/blob/master/rfcs/20180907-contrib-sunset.md\n",
      "  * https://github.com/tensorflow/addons\n",
      "  * https://github.com/tensorflow/io (for I/O related ops)\n",
      "If you depend on functionality not listed there, please file an issue.\n",
      "\n"
     ]
    }
   ],
   "source": [
    "from IPython.core.display import display, HTML\n",
    "display(HTML(\"<style>.container { width:100% !important; }</style>\"))\n",
    "###################################\n",
    "import argparse\n",
    "import numpy as np\n",
    "import tensorflow as tf\n",
    "print('TF v: ', tf.__version__)\n",
    "import tensorflow_datasets as tfds\n",
    "import os\n",
    "import sys\n",
    "import utils\n",
    "import logging\n",
    "logging.basicConfig(level=logging.INFO, format='%(asctime)s %(message)s')\n",
    "\n",
    "# from learn_representation import train_infoVAE\n",
    "import learn_representation, utils"
   ]
  },
  {
   "cell_type": "markdown",
   "metadata": {},
   "source": [
    "### learn representative space"
   ]
  },
  {
   "cell_type": "code",
   "execution_count": 2,
   "metadata": {},
   "outputs": [
    {
     "name": "stdout",
     "output_type": "stream",
     "text": [
      "Latent dims: 10, lambda_mmd 1e3, batch_size: 300\n",
      "Logdir: /home/firat/projects/al-bsq/tmp\n"
     ]
    }
   ],
   "source": [
    "logdir = os.path.join(os.getcwd(), 'tmp')\n",
    "# logdir='/home/fozdemir/saved_models/AL_BSQ/norm_ldims5'\n",
    "batch_size=300\n",
    "print(\"Latent dims: 10, lambda_mmd 1e3, batch_size: %d\" % (batch_size))\n",
    "print(\"Logdir: %s\" % (logdir))\n",
    "##########################################################################\n",
    "######### Ideally, one better run this outside of the notebook. ##########\n",
    "# !python learn_representation.py -l {logdir} --ndims_latent 10 --lambda_mmd 1000 --batch_size {batch_size} \n",
    "##########################################################################"
   ]
  },
  {
   "cell_type": "markdown",
   "metadata": {},
   "source": [
    "### load function to map onto representative space"
   ]
  },
  {
   "cell_type": "code",
   "execution_count": 3,
   "metadata": {
    "scrolled": true
   },
   "outputs": [
    {
     "name": "stdout",
     "output_type": "stream",
     "text": [
      "WARNING:tensorflow:From /home/firat/projects/al-bsq/utils.py:167: The name tf.set_random_seed is deprecated. Please use tf.compat.v1.set_random_seed instead.\n",
      "\n"
     ]
    },
    {
     "name": "stderr",
     "output_type": "stream",
     "text": [
      "2021-01-03 15:03:16,600 From /home/firat/projects/al-bsq/utils.py:167: The name tf.set_random_seed is deprecated. Please use tf.compat.v1.set_random_seed instead.\n",
      "\n",
      "2021-01-03 15:03:16,602 Overwrite dataset info from restored data version.\n",
      "2021-01-03 15:03:16,607 Reusing dataset mnist (/home/firat/mnist/1.0.0)\n",
      "2021-01-03 15:03:16,608 Constructing tf.data.Dataset for split train, from /home/firat/mnist/1.0.0\n"
     ]
    },
    {
     "name": "stdout",
     "output_type": "stream",
     "text": [
      "WARNING:tensorflow:From /home/firat/projects/al-bsq/utils.py:179: DatasetV1.make_initializable_iterator (from tensorflow.python.data.ops.dataset_ops) is deprecated and will be removed in a future version.\n",
      "Instructions for updating:\n",
      "Use `for ... in dataset:` to iterate over a dataset. If using `tf.estimator`, return the `Dataset` object directly from your input function. As a last resort, you can use `tf.compat.v1.data.make_initializable_iterator(dataset)`.\n"
     ]
    },
    {
     "name": "stderr",
     "output_type": "stream",
     "text": [
      "2021-01-03 15:03:16,762 From /home/firat/projects/al-bsq/utils.py:179: DatasetV1.make_initializable_iterator (from tensorflow.python.data.ops.dataset_ops) is deprecated and will be removed in a future version.\n",
      "Instructions for updating:\n",
      "Use `for ... in dataset:` to iterate over a dataset. If using `tf.estimator`, return the `Dataset` object directly from your input function. As a last resort, you can use `tf.compat.v1.data.make_initializable_iterator(dataset)`.\n"
     ]
    },
    {
     "name": "stdout",
     "output_type": "stream",
     "text": [
      "WARNING:tensorflow:From /home/firat/projects/al-bsq/utils.py:184: The name tf.placeholder_with_default is deprecated. Please use tf.compat.v1.placeholder_with_default instead.\n",
      "\n"
     ]
    },
    {
     "name": "stderr",
     "output_type": "stream",
     "text": [
      "2021-01-03 15:03:16,775 From /home/firat/projects/al-bsq/utils.py:184: The name tf.placeholder_with_default is deprecated. Please use tf.compat.v1.placeholder_with_default instead.\n",
      "\n"
     ]
    },
    {
     "name": "stdout",
     "output_type": "stream",
     "text": [
      "WARNING:tensorflow:From /home/firat/projects/al-bsq/utils.py:186: The name tf.Session is deprecated. Please use tf.compat.v1.Session instead.\n",
      "\n"
     ]
    },
    {
     "name": "stderr",
     "output_type": "stream",
     "text": [
      "2021-01-03 15:03:16,779 From /home/firat/projects/al-bsq/utils.py:186: The name tf.Session is deprecated. Please use tf.compat.v1.Session instead.\n",
      "\n"
     ]
    },
    {
     "name": "stdout",
     "output_type": "stream",
     "text": [
      "WARNING:tensorflow:From /home/firat/projects/al-bsq/utils.py:74: The name tf.keras.initializers.he_normal is deprecated. Please use tf.compat.v1.keras.initializers.he_normal instead.\n",
      "\n"
     ]
    },
    {
     "name": "stderr",
     "output_type": "stream",
     "text": [
      "2021-01-03 15:03:16,810 From /home/firat/projects/al-bsq/utils.py:74: The name tf.keras.initializers.he_normal is deprecated. Please use tf.compat.v1.keras.initializers.he_normal instead.\n",
      "\n"
     ]
    },
    {
     "name": "stdout",
     "output_type": "stream",
     "text": [
      "WARNING:tensorflow:From /home/firat/projects/al-bsq/utils.py:87: The name tf.variable_scope is deprecated. Please use tf.compat.v1.variable_scope instead.\n",
      "\n"
     ]
    },
    {
     "name": "stderr",
     "output_type": "stream",
     "text": [
      "2021-01-03 15:03:16,818 From /home/firat/projects/al-bsq/utils.py:87: The name tf.variable_scope is deprecated. Please use tf.compat.v1.variable_scope instead.\n",
      "\n"
     ]
    },
    {
     "name": "stdout",
     "output_type": "stream",
     "text": [
      "WARNING:tensorflow:From /home/firat/binaries/miniconda3/envs/tf114cpu/lib/python3.6/site-packages/tensorflow/python/ops/init_ops.py:1251: calling VarianceScaling.__init__ (from tensorflow.python.ops.init_ops) with dtype is deprecated and will be removed in a future version.\n",
      "Instructions for updating:\n",
      "Call initializer instance with the dtype argument instead of passing it to the constructor\n"
     ]
    },
    {
     "name": "stderr",
     "output_type": "stream",
     "text": [
      "2021-01-03 15:03:17,203 From /home/firat/binaries/miniconda3/envs/tf114cpu/lib/python3.6/site-packages/tensorflow/python/ops/init_ops.py:1251: calling VarianceScaling.__init__ (from tensorflow.python.ops.init_ops) with dtype is deprecated and will be removed in a future version.\n",
      "Instructions for updating:\n",
      "Call initializer instance with the dtype argument instead of passing it to the constructor\n"
     ]
    },
    {
     "name": "stdout",
     "output_type": "stream",
     "text": [
      "WARNING:tensorflow:From /home/firat/projects/al-bsq/utils.py:113: The name tf.get_collection is deprecated. Please use tf.compat.v1.get_collection instead.\n",
      "\n"
     ]
    },
    {
     "name": "stderr",
     "output_type": "stream",
     "text": [
      "2021-01-03 15:03:17,568 From /home/firat/projects/al-bsq/utils.py:113: The name tf.get_collection is deprecated. Please use tf.compat.v1.get_collection instead.\n",
      "\n"
     ]
    },
    {
     "name": "stdout",
     "output_type": "stream",
     "text": [
      "WARNING:tensorflow:From /home/firat/projects/al-bsq/utils.py:196: The name tf.train.Saver is deprecated. Please use tf.compat.v1.train.Saver instead.\n",
      "\n"
     ]
    },
    {
     "name": "stderr",
     "output_type": "stream",
     "text": [
      "2021-01-03 15:03:17,571 From /home/firat/projects/al-bsq/utils.py:196: The name tf.train.Saver is deprecated. Please use tf.compat.v1.train.Saver instead.\n",
      "\n"
     ]
    },
    {
     "name": "stdout",
     "output_type": "stream",
     "text": [
      "WARNING:tensorflow:From /home/firat/binaries/miniconda3/envs/tf114cpu/lib/python3.6/site-packages/tensorflow/python/training/saver.py:1276: checkpoint_exists (from tensorflow.python.training.checkpoint_management) is deprecated and will be removed in a future version.\n",
      "Instructions for updating:\n",
      "Use standard file APIs to check for files with this prefix.\n"
     ]
    },
    {
     "name": "stderr",
     "output_type": "stream",
     "text": [
      "2021-01-03 15:03:17,632 From /home/firat/binaries/miniconda3/envs/tf114cpu/lib/python3.6/site-packages/tensorflow/python/training/saver.py:1276: checkpoint_exists (from tensorflow.python.training.checkpoint_management) is deprecated and will be removed in a future version.\n",
      "Instructions for updating:\n",
      "Use standard file APIs to check for files with this prefix.\n"
     ]
    },
    {
     "name": "stdout",
     "output_type": "stream",
     "text": [
      "INFO:tensorflow:Restoring parameters from /home/firat/projects/al-bsq/tmp/model.ckpt-10000000\n"
     ]
    },
    {
     "name": "stderr",
     "output_type": "stream",
     "text": [
      "2021-01-03 15:03:17,636 Restoring parameters from /home/firat/projects/al-bsq/tmp/model.ckpt-10000000\n"
     ]
    },
    {
     "name": "stdout",
     "output_type": "stream",
     "text": [
      "batch finished\n"
     ]
    }
   ],
   "source": [
    "# import importlib\n",
    "# importlib.reload(utils)\n",
    "\n",
    "sampler_obj = utils.AL_BSQ_Sampler(log_dir=logdir)"
   ]
  },
  {
   "cell_type": "code",
   "execution_count": 4,
   "metadata": {},
   "outputs": [
    {
     "name": "stderr",
     "output_type": "stream",
     "text": [
      "2021-01-03 15:03:55,127 Queried indices for step 1:\n",
      "[10149 35891 47277 18102 27386 15902  9930 32409  7814 21304]\n"
     ]
    }
   ],
   "source": [
    "# Sample representative samples\n",
    "# sampler_obj = utils.AL_BSQ_Sampler(log_dir=log_dir)\n",
    "num_al_iterations = 1 # sample most representative samples 1 time in a row for this demo.\n",
    "num_query = 10 # query 10 most representative samples at a time.\n",
    "inds_an = sampler_obj.inds_an.copy()\n",
    "l_inds_an = [inds_an]\n",
    "for i_al in range(num_al_iterations):\n",
    "    inds_query = sampler_obj.query_samples(inds_an=inds_an, num_query=num_query)\n",
    "    inds_an = np.concatenate((inds_an, inds_query), axis=0)\n",
    "    l_inds_an.append(inds_an.copy())\n",
    "    logging.info('Queried indices for step %d:\\n%s' % (i_al+1, str(inds_query)))"
   ]
  },
  {
   "cell_type": "code",
   "execution_count": 5,
   "metadata": {},
   "outputs": [
    {
     "name": "stdout",
     "output_type": "stream",
     "text": [
      "/home/firat/binaries/miniconda3/envs/tf114cpu/lib/python3.6/site-packages/tensorflow/python/framework/dtypes.py:516: FutureWarning: Passing (type, 1) or '1type' as a synonym of type is deprecated; in a future version of numpy, it will be understood as (type, (1,)) / '(1,)type'.\n",
      "  _np_qint8 = np.dtype([(\"qint8\", np.int8, 1)])\n",
      "/home/firat/binaries/miniconda3/envs/tf114cpu/lib/python3.6/site-packages/tensorflow/python/framework/dtypes.py:517: FutureWarning: Passing (type, 1) or '1type' as a synonym of type is deprecated; in a future version of numpy, it will be understood as (type, (1,)) / '(1,)type'.\n",
      "  _np_quint8 = np.dtype([(\"quint8\", np.uint8, 1)])\n",
      "/home/firat/binaries/miniconda3/envs/tf114cpu/lib/python3.6/site-packages/tensorflow/python/framework/dtypes.py:518: FutureWarning: Passing (type, 1) or '1type' as a synonym of type is deprecated; in a future version of numpy, it will be understood as (type, (1,)) / '(1,)type'.\n",
      "  _np_qint16 = np.dtype([(\"qint16\", np.int16, 1)])\n",
      "/home/firat/binaries/miniconda3/envs/tf114cpu/lib/python3.6/site-packages/tensorflow/python/framework/dtypes.py:519: FutureWarning: Passing (type, 1) or '1type' as a synonym of type is deprecated; in a future version of numpy, it will be understood as (type, (1,)) / '(1,)type'.\n",
      "  _np_quint16 = np.dtype([(\"quint16\", np.uint16, 1)])\n",
      "/home/firat/binaries/miniconda3/envs/tf114cpu/lib/python3.6/site-packages/tensorflow/python/framework/dtypes.py:520: FutureWarning: Passing (type, 1) or '1type' as a synonym of type is deprecated; in a future version of numpy, it will be understood as (type, (1,)) / '(1,)type'.\n",
      "  _np_qint32 = np.dtype([(\"qint32\", np.int32, 1)])\n",
      "/home/firat/binaries/miniconda3/envs/tf114cpu/lib/python3.6/site-packages/tensorflow/python/framework/dtypes.py:525: FutureWarning: Passing (type, 1) or '1type' as a synonym of type is deprecated; in a future version of numpy, it will be understood as (type, (1,)) / '(1,)type'.\n",
      "  np_resource = np.dtype([(\"resource\", np.ubyte, 1)])\n",
      "/home/firat/binaries/miniconda3/envs/tf114cpu/lib/python3.6/site-packages/tensorboard/compat/tensorflow_stub/dtypes.py:541: FutureWarning: Passing (type, 1) or '1type' as a synonym of type is deprecated; in a future version of numpy, it will be understood as (type, (1,)) / '(1,)type'.\n",
      "  _np_qint8 = np.dtype([(\"qint8\", np.int8, 1)])\n",
      "/home/firat/binaries/miniconda3/envs/tf114cpu/lib/python3.6/site-packages/tensorboard/compat/tensorflow_stub/dtypes.py:542: FutureWarning: Passing (type, 1) or '1type' as a synonym of type is deprecated; in a future version of numpy, it will be understood as (type, (1,)) / '(1,)type'.\n",
      "  _np_quint8 = np.dtype([(\"quint8\", np.uint8, 1)])\n",
      "/home/firat/binaries/miniconda3/envs/tf114cpu/lib/python3.6/site-packages/tensorboard/compat/tensorflow_stub/dtypes.py:543: FutureWarning: Passing (type, 1) or '1type' as a synonym of type is deprecated; in a future version of numpy, it will be understood as (type, (1,)) / '(1,)type'.\n",
      "  _np_qint16 = np.dtype([(\"qint16\", np.int16, 1)])\n",
      "/home/firat/binaries/miniconda3/envs/tf114cpu/lib/python3.6/site-packages/tensorboard/compat/tensorflow_stub/dtypes.py:544: FutureWarning: Passing (type, 1) or '1type' as a synonym of type is deprecated; in a future version of numpy, it will be understood as (type, (1,)) / '(1,)type'.\n",
      "  _np_quint16 = np.dtype([(\"quint16\", np.uint16, 1)])\n",
      "/home/firat/binaries/miniconda3/envs/tf114cpu/lib/python3.6/site-packages/tensorboard/compat/tensorflow_stub/dtypes.py:545: FutureWarning: Passing (type, 1) or '1type' as a synonym of type is deprecated; in a future version of numpy, it will be understood as (type, (1,)) / '(1,)type'.\n",
      "  _np_qint32 = np.dtype([(\"qint32\", np.int32, 1)])\n",
      "/home/firat/binaries/miniconda3/envs/tf114cpu/lib/python3.6/site-packages/tensorboard/compat/tensorflow_stub/dtypes.py:550: FutureWarning: Passing (type, 1) or '1type' as a synonym of type is deprecated; in a future version of numpy, it will be understood as (type, (1,)) / '(1,)type'.\n",
      "  np_resource = np.dtype([(\"resource\", np.ubyte, 1)])\n",
      "2021-01-03 15:07:50,385 \n",
      "The TensorFlow contrib module will not be included in TensorFlow 2.0.\n",
      "For more information, please see:\n",
      "  * https://github.com/tensorflow/community/blob/master/rfcs/20180907-contrib-sunset.md\n",
      "  * https://github.com/tensorflow/addons\n",
      "  * https://github.com/tensorflow/io (for I/O related ops)\n",
      "If you depend on functionality not listed there, please file an issue.\n",
      "\n",
      "2021-01-03 15:07:50,819 From /home/firat/projects/al-bsq/learn_representation.py:49: The name tf.set_random_seed is deprecated. Please use tf.compat.v1.set_random_seed instead.\n",
      "\n",
      "2021-01-03 15:07:50,820 Overwrite dataset info from restored data version.\n",
      "2021-01-03 15:07:50,823 Reusing dataset mnist (/home/firat/./mnist/1.0.0)\n",
      "2021-01-03 15:07:50,823 Constructing tf.data.Dataset for split train, from /home/firat/./mnist/1.0.0\n",
      "2021-01-03 15:07:50,918 From /home/firat/binaries/miniconda3/envs/tf114cpu/lib/python3.6/site-packages/tensorflow/python/data/util/random_seed.py:58: add_dispatch_support.<locals>.wrapper (from tensorflow.python.ops.array_ops) is deprecated and will be removed in a future version.\n",
      "Instructions for updating:\n",
      "Use tf.where in 2.0, which has the same broadcast rule as np.where\n",
      "2021-01-03 15:07:50,923 From /home/firat/projects/al-bsq/learn_representation.py:59: DatasetV1.make_initializable_iterator (from tensorflow.python.data.ops.dataset_ops) is deprecated and will be removed in a future version.\n",
      "Instructions for updating:\n",
      "Use `for ... in dataset:` to iterate over a dataset. If using `tf.estimator`, return the `Dataset` object directly from your input function. As a last resort, you can use `tf.compat.v1.data.make_initializable_iterator(dataset)`.\n",
      "2021-01-03 15:07:50,931 From /home/firat/projects/al-bsq/learn_representation.py:65: The name tf.placeholder_with_default is deprecated. Please use tf.compat.v1.placeholder_with_default instead.\n",
      "\n",
      "2021-01-03 15:07:50,933 From /home/firat/projects/al-bsq/learn_representation.py:69: The name tf.ConfigProto is deprecated. Please use tf.compat.v1.ConfigProto instead.\n",
      "\n",
      "2021-01-03 15:07:50,933 From /home/firat/projects/al-bsq/learn_representation.py:75: The name tf.Session is deprecated. Please use tf.compat.v1.Session instead.\n",
      "\n",
      "2021-01-03 15:07:50.933715: I tensorflow/core/platform/cpu_feature_guard.cc:142] Your CPU supports instructions that this TensorFlow binary was not compiled to use: AVX2 AVX512F FMA\n",
      "2021-01-03 15:07:50.941824: I tensorflow/core/platform/profile_utils/cpu_utils.cc:94] CPU Frequency: 2099995000 Hz\n",
      "2021-01-03 15:07:50.942525: I tensorflow/compiler/xla/service/service.cc:168] XLA service 0x56399aeb8bb0 executing computations on platform Host. Devices:\n",
      "2021-01-03 15:07:50.942550: I tensorflow/compiler/xla/service/service.cc:175]   StreamExecutor device (0): <undefined>, <undefined>\n",
      "2021-01-03 15:07:50,943 From /home/firat/projects/al-bsq/utils.py:74: The name tf.keras.initializers.he_normal is deprecated. Please use tf.compat.v1.keras.initializers.he_normal instead.\n",
      "\n",
      "2021-01-03 15:07:51,052 From /home/firat/projects/al-bsq/utils.py:87: The name tf.variable_scope is deprecated. Please use tf.compat.v1.variable_scope instead.\n",
      "\n",
      "2021-01-03 15:07:51,247 From /home/firat/binaries/miniconda3/envs/tf114cpu/lib/python3.6/site-packages/tensorflow/python/ops/init_ops.py:1251: calling VarianceScaling.__init__ (from tensorflow.python.ops.init_ops) with dtype is deprecated and will be removed in a future version.\n",
      "Instructions for updating:\n",
      "Call initializer instance with the dtype argument instead of passing it to the constructor\n",
      "2021-01-03 15:07:51,494 Model: \"model\"\n",
      "2021-01-03 15:07:51,494 _________________________________________________________________\n",
      "2021-01-03 15:07:51,494 Layer (type)                 Output Shape              Param #   \n",
      "2021-01-03 15:07:51,494 =================================================================\n",
      "2021-01-03 15:07:51,494 Input (InputLayer)           [(None, 28, 28, 1)]       0         \n",
      "2021-01-03 15:07:51,494 _________________________________________________________________\n",
      "2021-01-03 15:07:51,494 conv1_1 (Conv2D)             (None, 24, 24, 64)        1600      \n",
      "2021-01-03 15:07:51,494 _________________________________________________________________\n",
      "2021-01-03 15:07:51,494 conv1_1_BN (BatchNormalizati (None, 24, 24, 64)        256       \n",
      "2021-01-03 15:07:51,494 _________________________________________________________________\n",
      "2021-01-03 15:07:51,494 conv1_1_act (Activation)     (None, 24, 24, 64)        0         \n",
      "2021-01-03 15:07:51,494 _________________________________________________________________\n",
      "2021-01-03 15:07:51,495 conv2_1 (Conv2D)             (None, 10, 10, 128)       204800    \n",
      "2021-01-03 15:07:51,495 _________________________________________________________________\n",
      "2021-01-03 15:07:51,495 conv2_1_BN (BatchNormalizati (None, 10, 10, 128)       512       \n",
      "2021-01-03 15:07:51,495 _________________________________________________________________\n",
      "2021-01-03 15:07:51,495 conv2_1_act (Activation)     (None, 10, 10, 128)       0         \n",
      "2021-01-03 15:07:51,495 _________________________________________________________________\n",
      "2021-01-03 15:07:51,495 conv3_1 (Conv2D)             (None, 3, 3, 256)         819200    \n",
      "2021-01-03 15:07:51,495 _________________________________________________________________\n",
      "2021-01-03 15:07:51,495 conv3_1_BN (BatchNormalizati (None, 3, 3, 256)         1024      \n",
      "2021-01-03 15:07:51,495 _________________________________________________________________\n",
      "2021-01-03 15:07:51,495 conv3_1_act (Activation)     (None, 3, 3, 256)         0         \n",
      "2021-01-03 15:07:51,495 _________________________________________________________________\n",
      "2021-01-03 15:07:51,495 flatten_final_conv (Reshape) (None, 2304)              0         \n",
      "2021-01-03 15:07:51,495 _________________________________________________________________\n",
      "2021-01-03 15:07:51,495 Z (Dense)                    (None, 10)                23040     \n",
      "2021-01-03 15:07:51,495 _________________________________________________________________\n",
      "2021-01-03 15:07:51,496 Match_decoder_conv_shape (De (None, 12544)             125440    \n",
      "2021-01-03 15:07:51,496 _________________________________________________________________\n",
      "2021-01-03 15:07:51,496 Match_decoder_conv_shape_BN  (None, 12544)             50176     \n",
      "2021-01-03 15:07:51,496 _________________________________________________________________\n",
      "2021-01-03 15:07:51,496 Match_decoder_conv_shape_act (None, 12544)             0         \n",
      "2021-01-03 15:07:51,496 _________________________________________________________________\n",
      "2021-01-03 15:07:51,496 flat_to_image (Reshape)      (None, 7, 7, 256)         0         \n",
      "2021-01-03 15:07:51,496 _________________________________________________________________\n",
      "2021-01-03 15:07:51,496 deconv1_1 (Conv2DTranspose)  (None, 7, 7, 256)         1638400   \n",
      "2021-01-03 15:07:51,496 _________________________________________________________________\n",
      "2021-01-03 15:07:51,496 deconv1_1_BN (BatchNormaliza (None, 7, 7, 256)         1024      \n",
      "2021-01-03 15:07:51,496 _________________________________________________________________\n",
      "2021-01-03 15:07:51,496 deconv1_1_act (Activation)   (None, 7, 7, 256)         0         \n",
      "2021-01-03 15:07:51,496 _________________________________________________________________\n",
      "2021-01-03 15:07:51,496 deconv2_1 (Conv2DTranspose)  (None, 14, 14, 128)       819200    \n",
      "2021-01-03 15:07:51,496 _________________________________________________________________\n",
      "2021-01-03 15:07:51,497 deconv2_1_BN (BatchNormaliza (None, 14, 14, 128)       512       \n",
      "2021-01-03 15:07:51,497 _________________________________________________________________\n",
      "2021-01-03 15:07:51,497 deconv2_1_act (Activation)   (None, 14, 14, 128)       0         \n",
      "2021-01-03 15:07:51,497 _________________________________________________________________\n",
      "2021-01-03 15:07:51,497 output (Conv2DTranspose)     (None, 28, 28, 1)         3200      \n",
      "2021-01-03 15:07:51,497 =================================================================\n",
      "2021-01-03 15:07:51,498 Total params: 3,688,384\n",
      "2021-01-03 15:07:51,498 Trainable params: 3,661,632\n",
      "2021-01-03 15:07:51,498 Non-trainable params: 26,752\n",
      "2021-01-03 15:07:51,498 _________________________________________________________________\n",
      "2021-01-03 15:07:51,498 From /home/firat/projects/al-bsq/learn_representation.py:86: The name tf.train.Saver is deprecated. Please use tf.compat.v1.train.Saver instead.\n",
      "\n"
     ]
    },
    {
     "name": "stdout",
     "output_type": "stream",
     "text": [
      "2021-01-03 15:07:51,565 From /home/firat/binaries/miniconda3/envs/tf114cpu/lib/python3.6/site-packages/tensorflow/python/training/saver.py:1276: checkpoint_exists (from tensorflow.python.training.checkpoint_management) is deprecated and will be removed in a future version.\n",
      "Instructions for updating:\n",
      "Use standard file APIs to check for files with this prefix.\n",
      "2021-01-03 15:07:51,567 Restoring parameters from /home/firat/projects/al-bsq/tmp/model.ckpt-10000000\n",
      "2021-01-03 15:07:51.615978: W tensorflow/compiler/jit/mark_for_compilation_pass.cc:1412] (One-time warning): Not using XLA:CPU for cluster because envvar TF_XLA_FLAGS=--tf_xla_cpu_global_jit was not set.  If you want XLA:CPU, either set that envvar, or use experimental_jit_scope to enable XLA:CPU.  To confirm that XLA is active, pass --vmodule=xla_compilation_cache=1 (as a proper command-line flag, not via TF_XLA_FLAGS) or set the envvar XLA_FLAGS=--xla_hlo_profile.\n",
      "2021-01-03 15:07:51,719 From /home/firat/projects/al-bsq/learn_representation.py:110: The name tf.losses.get_regularization_loss is deprecated. Please use tf.compat.v1.losses.get_regularization_loss instead.\n",
      "\n",
      "2021-01-03 15:07:51,720 From /home/firat/projects/al-bsq/learn_representation.py:116: The name tf.train.AdamOptimizer is deprecated. Please use tf.compat.v1.train.AdamOptimizer instead.\n",
      "\n",
      "2021-01-03 15:07:52,889 Logging experiments under: /home/firat/projects/al-bsq/tmp\n",
      "2021-01-03 15:07:52,902 Overwrite dataset info from restored data version.\n",
      "2021-01-03 15:07:52,904 Reusing dataset mnist (/home/firat/mnist/1.0.0)\n",
      "2021-01-03 15:07:52,904 Constructing tf.data.Dataset for split train, from /home/firat/mnist/1.0.0\n",
      "2021-01-03 15:07:53,586 Restoring parameters from /home/firat/projects/al-bsq/tmp/model.ckpt-10000000\n",
      "batch finished\n",
      "2021-01-03 15:08:31,162 Queried indices for step 1:\n",
      "[10149 35891 47277 18102 27386 15902  9930 32409  7814 21304]\n"
     ]
    }
   ],
   "source": [
    "## Alternatively, use commandline script\n",
    "!python demo.py --logdir {logdir} --ndims_latent 10 --lambda_mmd 1000 --batch_size {batch_size} "
   ]
  }
 ],
 "metadata": {
  "kernelspec": {
   "display_name": "Python 3",
   "language": "python",
   "name": "python3"
  },
  "language_info": {
   "codemirror_mode": {
    "name": "ipython",
    "version": 3
   },
   "file_extension": ".py",
   "mimetype": "text/x-python",
   "name": "python",
   "nbconvert_exporter": "python",
   "pygments_lexer": "ipython3",
   "version": "3.6.10"
  }
 },
 "nbformat": 4,
 "nbformat_minor": 2
}
